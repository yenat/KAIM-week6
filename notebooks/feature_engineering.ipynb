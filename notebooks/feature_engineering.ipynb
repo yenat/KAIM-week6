{
 "cells": [
  {
   "cell_type": "code",
   "execution_count": 1,
   "metadata": {},
   "outputs": [
    {
     "name": "stdout",
     "output_type": "stream",
     "text": [
      "        CustomerId  TotalTransactionAmount  AvgTransactionAmount  \\\n",
      "0     CustomerId_1                -10000.0         -10000.000000   \n",
      "1    CustomerId_10                -10000.0         -10000.000000   \n",
      "2  CustomerId_1001                 20000.0           4000.000000   \n",
      "3  CustomerId_1002                  4225.0            384.090909   \n",
      "4  CustomerId_1003                 20000.0           3333.333333   \n",
      "\n",
      "   TransactionCount  StdDevTransactionAmount  \n",
      "0                 1                      NaN  \n",
      "1                 1                      NaN  \n",
      "2                 5              6558.963333  \n",
      "3                11               560.498966  \n",
      "4                 6              6030.478146  \n"
     ]
    }
   ],
   "source": [
    "import pandas as pd\n",
    "\n",
    "# Load the dataset\n",
    "df = pd.read_csv('../data/data.csv')\n",
    "\n",
    "# Aggregate features\n",
    "aggregate_features = df.groupby('CustomerId').agg({\n",
    "    'Amount': ['sum', 'mean', 'count', 'std']\n",
    "}).reset_index()\n",
    "\n",
    "# Rename columns for clarity\n",
    "aggregate_features.columns = ['CustomerId', 'TotalTransactionAmount', 'AvgTransactionAmount', 'TransactionCount', 'StdDevTransactionAmount']\n",
    "\n",
    "# Display the aggregate features\n",
    "print(aggregate_features.head())\n"
   ]
  },
  {
   "cell_type": "code",
   "execution_count": 2,
   "metadata": {},
   "outputs": [
    {
     "name": "stdout",
     "output_type": "stream",
     "text": [
      "   TransactionHour  TransactionDay  TransactionMonth  TransactionYear\n",
      "0                2              15                11             2018\n",
      "1                2              15                11             2018\n",
      "2                2              15                11             2018\n",
      "3                3              15                11             2018\n",
      "4                3              15                11             2018\n"
     ]
    }
   ],
   "source": [
    "# Convert TransactionStartTime to datetime\n",
    "df['TransactionStartTime'] = pd.to_datetime(df['TransactionStartTime'])\n",
    "\n",
    "# Extract features\n",
    "df['TransactionHour'] = df['TransactionStartTime'].dt.hour\n",
    "df['TransactionDay'] = df['TransactionStartTime'].dt.day\n",
    "df['TransactionMonth'] = df['TransactionStartTime'].dt.month\n",
    "df['TransactionYear'] = df['TransactionStartTime'].dt.year\n",
    "\n",
    "# Display the extracted features\n",
    "print(df[['TransactionHour', 'TransactionDay', 'TransactionMonth', 'TransactionYear']].head())\n"
   ]
  },
  {
   "cell_type": "code",
   "execution_count": 4,
   "metadata": {},
   "outputs": [
    {
     "name": "stdout",
     "output_type": "stream",
     "text": [
      "   ProductCategory_airtime  ProductCategory_data_bundles  \\\n",
      "0                      1.0                           0.0   \n",
      "1                      0.0                           0.0   \n",
      "2                      1.0                           0.0   \n",
      "3                      0.0                           0.0   \n",
      "4                      0.0                           0.0   \n",
      "\n",
      "   ProductCategory_financial_services  ProductCategory_movies  \\\n",
      "0                                 0.0                     0.0   \n",
      "1                                 1.0                     0.0   \n",
      "2                                 0.0                     0.0   \n",
      "3                                 0.0                     0.0   \n",
      "4                                 1.0                     0.0   \n",
      "\n",
      "   ProductCategory_other  ProductCategory_ticket  ProductCategory_transport  \\\n",
      "0                    0.0                     0.0                        0.0   \n",
      "1                    0.0                     0.0                        0.0   \n",
      "2                    0.0                     0.0                        0.0   \n",
      "3                    0.0                     0.0                        0.0   \n",
      "4                    0.0                     0.0                        0.0   \n",
      "\n",
      "   ProductCategory_tv  ProductCategory_utility_bill  \n",
      "0                 0.0                           0.0  \n",
      "1                 0.0                           0.0  \n",
      "2                 0.0                           0.0  \n",
      "3                 0.0                           1.0  \n",
      "4                 0.0                           0.0  \n",
      "     ChannelId  ChannelIdEncoded\n",
      "0  ChannelId_3                 2\n",
      "1  ChannelId_2                 1\n",
      "2  ChannelId_3                 2\n",
      "3  ChannelId_3                 2\n",
      "4  ChannelId_2                 1\n"
     ]
    }
   ],
   "source": [
    "from sklearn.preprocessing import OneHotEncoder, LabelEncoder\n",
    "\n",
    "# One-Hot Encoding for 'ProductCategory'\n",
    "one_hot_encoder = OneHotEncoder(sparse_output=False)\n",
    "product_category_encoded = one_hot_encoder.fit_transform(df[['ProductCategory']])\n",
    "product_category_df = pd.DataFrame(product_category_encoded, columns=one_hot_encoder.get_feature_names_out(['ProductCategory']))\n",
    "\n",
    "# Label Encoding for 'ChannelId'\n",
    "label_encoder = LabelEncoder()\n",
    "df['ChannelIdEncoded'] = label_encoder.fit_transform(df['ChannelId'])\n",
    "\n",
    "# Display encoded features\n",
    "print(product_category_df.head())\n",
    "print(df[['ChannelId', 'ChannelIdEncoded']].head())\n"
   ]
  },
  {
   "cell_type": "code",
   "execution_count": 5,
   "metadata": {},
   "outputs": [
    {
     "name": "stdout",
     "output_type": "stream",
     "text": [
      "TransactionId           0\n",
      "BatchId                 0\n",
      "AccountId               0\n",
      "SubscriptionId          0\n",
      "CustomerId              0\n",
      "CurrencyCode            0\n",
      "CountryCode             0\n",
      "ProviderId              0\n",
      "ProductId               0\n",
      "ProductCategory         0\n",
      "ChannelId               0\n",
      "Amount                  0\n",
      "Value                   0\n",
      "TransactionStartTime    0\n",
      "PricingStrategy         0\n",
      "FraudResult             0\n",
      "TransactionHour         0\n",
      "TransactionDay          0\n",
      "TransactionMonth        0\n",
      "TransactionYear         0\n",
      "ChannelIdEncoded        0\n",
      "dtype: int64\n"
     ]
    }
   ],
   "source": [
    "# Impute missing values with mean for numerical columns\n",
    "df['Amount'].fillna(df['Amount'].mean(), inplace=True)\n",
    "df['Value'].fillna(df['Value'].mean(), inplace=True)\n",
    "\n",
    "# Impute missing values with mode for categorical columns\n",
    "df['ProductCategory'].fillna(df['ProductCategory'].mode()[0], inplace=True)\n",
    "df['ChannelId'].fillna(df['ChannelId'].mode()[0], inplace=True)\n",
    "\n",
    "# Display the imputed dataset\n",
    "print(df.isnull().sum())\n"
   ]
  },
  {
   "cell_type": "code",
   "execution_count": 6,
   "metadata": {},
   "outputs": [
    {
     "name": "stdout",
     "output_type": "stream",
     "text": [
      "TransactionId           0\n",
      "BatchId                 0\n",
      "AccountId               0\n",
      "SubscriptionId          0\n",
      "CustomerId              0\n",
      "CurrencyCode            0\n",
      "CountryCode             0\n",
      "ProviderId              0\n",
      "ProductId               0\n",
      "ProductCategory         0\n",
      "ChannelId               0\n",
      "Amount                  0\n",
      "Value                   0\n",
      "TransactionStartTime    0\n",
      "PricingStrategy         0\n",
      "FraudResult             0\n",
      "TransactionHour         0\n",
      "TransactionDay          0\n",
      "TransactionMonth        0\n",
      "TransactionYear         0\n",
      "ChannelIdEncoded        0\n",
      "dtype: int64\n"
     ]
    }
   ],
   "source": [
    "# Impute missing values with mean for numerical columns\n",
    "df['Amount'].fillna(df['Amount'].mean(), inplace=True)\n",
    "df['Value'].fillna(df['Value'].mean(), inplace=True)\n",
    "\n",
    "# Impute missing values with mode for categorical columns\n",
    "df['ProductCategory'].fillna(df['ProductCategory'].mode()[0], inplace=True)\n",
    "df['ChannelId'].fillna(df['ChannelId'].mode()[0], inplace=True)\n",
    "\n",
    "# Display the imputed dataset\n",
    "print(df.isnull().sum())\n"
   ]
  },
  {
   "cell_type": "code",
   "execution_count": 7,
   "metadata": {},
   "outputs": [
    {
     "name": "stdout",
     "output_type": "stream",
     "text": [
      "     Amount     Value\n",
      "0 -0.046371 -0.072291\n",
      "1 -0.054643 -0.080251\n",
      "2 -0.050426 -0.076352\n",
      "3  0.107717  0.096648\n",
      "4 -0.059704 -0.075183\n"
     ]
    }
   ],
   "source": [
    "from sklearn.preprocessing import MinMaxScaler, StandardScaler\n",
    "\n",
    "# Normalize the numerical features\n",
    "min_max_scaler = MinMaxScaler()\n",
    "df[['Amount', 'Value']] = min_max_scaler.fit_transform(df[['Amount', 'Value']])\n",
    "\n",
    "# Standardize the numerical features\n",
    "standard_scaler = StandardScaler()\n",
    "df[['Amount', 'Value']] = standard_scaler.fit_transform(df[['Amount', 'Value']])\n",
    "\n",
    "# Display the normalized and standardized features\n",
    "print(df[['Amount', 'Value']].head())\n"
   ]
  },
  {
   "cell_type": "code",
   "execution_count": 8,
   "metadata": {},
   "outputs": [],
   "source": [
    "# Concatenate encoded features with the original dataframe\n",
    "df = pd.concat([df, product_category_df], axis=1)\n",
    "\n",
    "# Merge aggregate features with the original dataframe\n",
    "df = df.merge(aggregate_features, on='CustomerId', how='left')\n"
   ]
  },
  {
   "cell_type": "code",
   "execution_count": 9,
   "metadata": {},
   "outputs": [
    {
     "name": "stdout",
     "output_type": "stream",
     "text": [
      "         TransactionId         BatchId       AccountId       SubscriptionId  \\\n",
      "0  TransactionId_76871   BatchId_36123  AccountId_3957   SubscriptionId_887   \n",
      "1  TransactionId_73770   BatchId_15642  AccountId_4841  SubscriptionId_3829   \n",
      "2  TransactionId_26203   BatchId_53941  AccountId_4229   SubscriptionId_222   \n",
      "3    TransactionId_380  BatchId_102363   AccountId_648  SubscriptionId_2185   \n",
      "4  TransactionId_28195   BatchId_38780  AccountId_4841  SubscriptionId_3829   \n",
      "\n",
      "        CustomerId CurrencyCode  CountryCode    ProviderId     ProductId  \\\n",
      "0  CustomerId_4406          UGX          256  ProviderId_6  ProductId_10   \n",
      "1  CustomerId_4406          UGX          256  ProviderId_4   ProductId_6   \n",
      "2  CustomerId_4683          UGX          256  ProviderId_6   ProductId_1   \n",
      "3   CustomerId_988          UGX          256  ProviderId_1  ProductId_21   \n",
      "4   CustomerId_988          UGX          256  ProviderId_4   ProductId_6   \n",
      "\n",
      "      ProductCategory  ... ProductCategory_movies  ProductCategory_other  \\\n",
      "0             airtime  ...                    0.0                    0.0   \n",
      "1  financial_services  ...                    0.0                    0.0   \n",
      "2             airtime  ...                    0.0                    0.0   \n",
      "3        utility_bill  ...                    0.0                    0.0   \n",
      "4  financial_services  ...                    0.0                    0.0   \n",
      "\n",
      "   ProductCategory_ticket ProductCategory_transport  ProductCategory_tv  \\\n",
      "0                     0.0                       0.0                 0.0   \n",
      "1                     0.0                       0.0                 0.0   \n",
      "2                     0.0                       0.0                 0.0   \n",
      "3                     0.0                       0.0                 0.0   \n",
      "4                     0.0                       0.0                 0.0   \n",
      "\n",
      "   ProductCategory_utility_bill  TotalTransactionAmount  AvgTransactionAmount  \\\n",
      "0                           0.0               109921.75            923.712185   \n",
      "1                           0.0               109921.75            923.712185   \n",
      "2                           0.0                 1000.00            500.000000   \n",
      "3                           1.0               228727.20           6019.136842   \n",
      "4                           0.0               228727.20           6019.136842   \n",
      "\n",
      "   TransactionCount  StdDevTransactionAmount  \n",
      "0               119              3042.294251  \n",
      "1               119              3042.294251  \n",
      "2                 2                 0.000000  \n",
      "3                38             17169.241610  \n",
      "4                38             17169.241610  \n",
      "\n",
      "[5 rows x 34 columns]\n"
     ]
    }
   ],
   "source": [
    "# Save the final dataset with engineered features\n",
    "df.to_csv('final_dataset_with_engineered_features.csv', index=False)\n",
    "\n",
    "# Display the first few rows of the final dataset\n",
    "print(df.head())\n"
   ]
  },
  {
   "cell_type": "code",
   "execution_count": 10,
   "metadata": {},
   "outputs": [
    {
     "name": "stdout",
     "output_type": "stream",
     "text": [
      "CustomerId: CustomerId_3105\n",
      "Number of Transactions: 199\n",
      "            TransactionId         BatchId       AccountId  \\\n",
      "16   TransactionId_122975   BatchId_31312  AccountId_2685   \n",
      "17    TransactionId_98367    BatchId_6789  AccountId_2685   \n",
      "18    TransactionId_64044  BatchId_117733  AccountId_4841   \n",
      "139   TransactionId_15783   BatchId_12827  AccountId_2685   \n",
      "144   TransactionId_42587   BatchId_74059  AccountId_2685   \n",
      "\n",
      "          SubscriptionId       CustomerId CurrencyCode  CountryCode  \\\n",
      "16   SubscriptionId_4626  CustomerId_3105          UGX          256   \n",
      "17   SubscriptionId_4626  CustomerId_3105          UGX          256   \n",
      "18   SubscriptionId_3829  CustomerId_3105          UGX          256   \n",
      "139  SubscriptionId_4626  CustomerId_3105          UGX          256   \n",
      "144  SubscriptionId_4626  CustomerId_3105          UGX          256   \n",
      "\n",
      "       ProviderId     ProductId     ProductCategory  ...  \\\n",
      "16   ProviderId_5  ProductId_15  financial_services  ...   \n",
      "17   ProviderId_6  ProductId_11        data_bundles  ...   \n",
      "18   ProviderId_4   ProductId_6  financial_services  ...   \n",
      "139  ProviderId_5  ProductId_15  financial_services  ...   \n",
      "144  ProviderId_6   ProductId_3             airtime  ...   \n",
      "\n",
      "    ProductCategory_movies  ProductCategory_other  ProductCategory_ticket  \\\n",
      "16                     0.0                    0.0                     0.0   \n",
      "17                     0.0                    0.0                     0.0   \n",
      "18                     0.0                    0.0                     0.0   \n",
      "139                    0.0                    0.0                     0.0   \n",
      "144                    0.0                    0.0                     0.0   \n",
      "\n",
      "    ProductCategory_transport  ProductCategory_tv  \\\n",
      "16                        0.0                 0.0   \n",
      "17                        0.0                 0.0   \n",
      "18                        0.0                 0.0   \n",
      "139                       0.0                 0.0   \n",
      "144                       0.0                 0.0   \n",
      "\n",
      "     ProductCategory_utility_bill  TotalTransactionAmount  \\\n",
      "16                            0.0                159548.0   \n",
      "17                            0.0                159548.0   \n",
      "18                            0.0                159548.0   \n",
      "139                           0.0                159548.0   \n",
      "144                           0.0                159548.0   \n",
      "\n",
      "     AvgTransactionAmount  TransactionCount  StdDevTransactionAmount  \n",
      "16             801.748744               199               713.068993  \n",
      "17             801.748744               199               713.068993  \n",
      "18             801.748744               199               713.068993  \n",
      "139            801.748744               199               713.068993  \n",
      "144            801.748744               199               713.068993  \n",
      "\n",
      "[5 rows x 34 columns]\n"
     ]
    }
   ],
   "source": [
    "# Identify customers with transaction counts of 199\n",
    "customers_with_199_transactions = aggregate_features[aggregate_features['TransactionCount'] == 199]['CustomerId']\n",
    "\n",
    "# Display transaction records for these customers\n",
    "for customer_id in customers_with_199_transactions:\n",
    "    customer_transactions = df[df['CustomerId'] == customer_id]\n",
    "    print(f\"CustomerId: {customer_id}\\nNumber of Transactions: {len(customer_transactions)}\")\n",
    "    print(customer_transactions.head())\n"
   ]
  }
 ],
 "metadata": {
  "kernelspec": {
   "display_name": "Python 3",
   "language": "python",
   "name": "python3"
  },
  "language_info": {
   "codemirror_mode": {
    "name": "ipython",
    "version": 3
   },
   "file_extension": ".py",
   "mimetype": "text/x-python",
   "name": "python",
   "nbconvert_exporter": "python",
   "pygments_lexer": "ipython3",
   "version": "3.10.12"
  }
 },
 "nbformat": 4,
 "nbformat_minor": 2
}
